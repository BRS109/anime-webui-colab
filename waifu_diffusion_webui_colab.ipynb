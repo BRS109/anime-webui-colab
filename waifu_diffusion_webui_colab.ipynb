{
  "cells": [
    {
      "cell_type": "markdown",
      "metadata": {
        "colab_type": "text",
        "id": "view-in-github"
      },
      "source": [
        "<a href=\"https://colab.research.google.com/github/NUROISEA/anime-webui-colab/blob/main/waifu_diffusion_webui_colab.ipynb\" target=\"_parent\"><img src=\"https://colab.research.google.com/assets/colab-badge.svg\" alt=\"Open In Colab\"/></a>"
      ]
    },
    {
      "cell_type": "markdown",
      "metadata": {
        "id": "Mlpa8mLrnNe-"
      },
      "source": [
        "<h2>🌟 <code>Waifu Diffusion Colab</code></h2>\n",
        "\n",
        "- 🤔 [How to use](https://github.com/NUROISEA/anime-webui-colab#-how-to-use)"
      ]
    },
    {
      "cell_type": "code",
      "execution_count": null,
      "metadata": {
        "cellView": "form",
        "id": "_cRmoHmYPcoD"
      },
      "outputs": [],
      "source": [
        "#@title 🚀 `Launch web UI`\n",
        "\n",
        "#@markdown 🧐 Select what Waifu Diffusion model you want to use\n",
        "\n",
        "model_version = \"1.4\" #@param [\"1.3\", \"1.3.5\", \"1.4\"]\n",
        "\n",
        "#@markdown Click the play button on the left to install the web UI and it's dependencies\n",
        "\n",
        "#@markdown It takes around 3-5 minutes before you can see a `gradio.app` link to the web UI\n",
        "\n",
        "try:\n",
        "  has_run\n",
        "except NameError:\n",
        "  has_run = False\n",
        "\n",
        "web_ui_folder = \"/content/stable-diffusion-webui\"\n",
        "extensions_folder = f\"{web_ui_folder}/extensions\"\n",
        "models_folder = f\"{web_ui_folder}/models/Stable-diffusion\"\n",
        "vae_folder = f\"{web_ui_folder}/models/VAE\"\n",
        "\n",
        "model_dictionary = {\n",
        "  \"1.3\":\"https://huggingface.co/hakurei/waifu-diffusion-v1-3/resolve/main/wd-v1-3-float32.ckpt\",\n",
        "  \"1.3.5\":\"https://huggingface.co/hakurei/waifu-diffusion-v1-4/resolve/main/models/wd-1-3-5_80000-fp32.ckpt\",\n",
        "  \"1.4\":\"https://huggingface.co/hakurei/waifu-diffusion-v1-4/resolve/main/wd-1-4-anime_e1.ckpt\",\n",
        "}\n",
        "\n",
        "vae_link = \"https://huggingface.co/hakurei/waifu-diffusion-v1-4/resolve/main/vae/kl-f8-anime2.ckpt\"\n",
        "vae_name = vae_link.split(\"/\")[-1]\n",
        "\n",
        "model_link = model_dictionary[model_version]\n",
        "model_name = model_link.split(\"/\")[-1]\n",
        "\n",
        "git_flags = \"-q\"\n",
        "wget_flags = \"-q --show-progress\"\n",
        "\n",
        "if not has_run:\n",
        "  has_run = True\n",
        "\n",
        "  !pip install -q https://github.com/camenduru/stable-diffusion-webui-colab/releases/download/0.0.15/xformers-0.0.15.dev0+189828c.d20221207-cp38-cp38-linux_x86_64.whl\n",
        "\n",
        "  !git clone {git_flags} https://github.com/camenduru/stable-diffusion-webui\n",
        "  !git clone {git_flags} https://github.com/yfszzx/stable-diffusion-webui-images-browser {extensions_folder}/stable-diffusion-webui-images-browser\n",
        "  !git clone {git_flags} https://github.com/DominikDoom/a1111-sd-webui-tagcomplete {extensions_folder}/a1111-sd-webui-tagcomplete\n",
        "\n",
        "  if model_version == \"1.4\":\n",
        "    !wget {wget_flags} https://huggingface.co/hakurei/waifu-diffusion-v1-4/resolve/main/wd-1-4-anime_e1.yaml -O {models_folder}/wd-1-4-anime_e1.yaml\n",
        "    !wget {wget_flags} https://github.com/NUROISEA/anime-webui-colab/raw/main/configs/wd14_ui_config.json -O {web_ui_folder}/wd14_ui_config.json\n",
        "\n",
        "  !wget {wget_flags} https://github.com/NUROISEA/anime-webui-colab/raw/main/configs/wd_config.json -O {web_ui_folder}/wd_config.json\n",
        "  \n",
        "  !wget {wget_flags} {vae_link} -O {vae_folder}/{vae_name}\n",
        "\n",
        "try:\n",
        "  models_downloaded\n",
        "except NameError:\n",
        "  models_downloaded = []\n",
        "\n",
        "if model_version not in models_downloaded:\n",
        "  models_downloaded.append(model_version)\n",
        "  !wget {wget_flags} {model_link} -O {models_folder}/{model_name}\n",
        "\n",
        "arg_list = [\n",
        "  \"--share --xformers\",\n",
        "  f\"--ckpt {models_folder}/{model_name}\",\n",
        "  f\"--vae-path {vae_folder}/{vae_name}\",\n",
        "  f\"--ui-settings-file {web_ui_folder}/wd_config.json\"\n",
        "]\n",
        "\n",
        "if model_version == \"1.4\":\n",
        "  arg_list.append(f\"--ui-config-file {web_ui_folder}/wd14_ui_config.json\")\n",
        "\n",
        "%cd {web_ui_folder}\n",
        "args = \" \".join(arg_list)\n",
        "!python launch.py {args}"
      ]
    },
    {
      "cell_type": "code",
      "execution_count": null,
      "metadata": {
        "cellView": "form",
        "id": "jfgnf3GbPcoK"
      },
      "outputs": [],
      "source": [
        "#@title 📩 `Saving images`\n",
        "\n",
        "#@markdown The zip file will be visible at the files tab.\n",
        "\n",
        "from datetime import datetime\n",
        "str_date = datetime.today().strftime('%Y-%m-%d-%H%M%S')\n",
        "archive_name = f\"outputs-{str_date}.zip\"\n",
        "\n",
        "%cd /content/stable-diffusion-webui\n",
        "print(\"Zipping...\")\n",
        "!zip -qr /content/{archive_name} outputs\n",
        "print(f\"Zipped. You can now find {archive_name} at the files tab.\")\n",
        "\n",
        "\n",
        "#@markdown 📤 Upload zip to [temp.sh](https://temp.sh/)?\n",
        "upload_to_tempsh = False #@param {type:'boolean'}\n",
        "if upload_to_tempsh:\n",
        "  !curl -T /content/{archive_name} temp.sh\n",
        "  print(\"\\n^^^ This is your download link! ^^^\")\n",
        "\n",
        "#@markdown ----\n",
        "\n",
        "#@markdown 📲 Copy zip to Google Drive?\n",
        "copy_to_gdrive = False #@param {type:'boolean'}\n",
        "#@markdown 📂 The folder path to copy the zip file, if the above is checked, if left blank it will be in `AI/Generated`\n",
        "gdrive_folder = \"AI/Generated\" #@param { 'type': 'string' }\n",
        "\n",
        "if copy_to_gdrive:\n",
        "  from google.colab import drive\n",
        "\n",
        "  print(\"Mounting to Google Drive...\")\n",
        "  drive.mount('/content/drive')\n",
        "  if gdrive_folder == \"\":\n",
        "    gdrive_folder = \"AI/Generated\"\n",
        "  \n",
        "  drive_folder = f\"/content/drive/MyDrive/{gdrive_folder}\"\n",
        "  \n",
        "  !mkdir -p {drive_folder}\n",
        "  !cp /content/{archive_name} {drive_folder}\n",
        "  print(f\"Copied to {gdrive_folder}!\")\n",
        "\n",
        "#@markdown ----\n",
        "\n",
        "#@markdown ❌ Delete the files in the colab? (this wont delete the saved zip)\n",
        "delete_local_files = True #@param {type:'boolean'}\n",
        "if delete_local_files:\n",
        "  %cd /content/stable-diffusion-webui\n",
        "  !rm -rf outputs"
      ]
    }
  ],
  "metadata": {
    "accelerator": "GPU",
    "colab": {
      "include_colab_link": true,
      "private_outputs": true,
      "provenance": []
    },
    "gpuClass": "standard",
    "kernelspec": {
      "display_name": "Python 3",
      "name": "python3"
    },
    "language_info": {
      "name": "python"
    }
  },
  "nbformat": 4,
  "nbformat_minor": 0
}
