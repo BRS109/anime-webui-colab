{
  "cells": [
    {
      "cell_type": "markdown",
      "metadata": {
        "id": "view-in-github",
        "colab_type": "text"
      },
      "source": [
        "<a href=\"https://colab.research.google.com/github/NUROISEA/anime-webui-colab/blob/main/eimis_anime_diffusion.ipynb\" target=\"_parent\"><img src=\"https://colab.research.google.com/assets/colab-badge.svg\" alt=\"Open In Colab\"/></a>"
      ]
    },
    {
      "cell_type": "markdown",
      "source": [
        "<h2>🌟 <code>Eimi's Anime Diffusion Colab</code></h2>\n",
        "\n",
        "- 🤔 [How to use](https://github.com/NUROISEA/anime-webui-colab#-how-to-use)"
      ],
      "metadata": {
        "id": "kiLKXJvijgSi"
      }
    },
    {
      "cell_type": "code",
      "execution_count": null,
      "metadata": {
        "cellView": "form",
        "id": "MqlZXvd4jdS4"
      },
      "outputs": [],
      "source": [
        "#@title 🚀 `Launch web UI`\n",
        "\n",
        "#@markdown Click the play button on the left to install the web UI and it's dependencies\n",
        "\n",
        "\n",
        "#@markdown It takes around 3-5 minutes before you can see a `gradio.app` link to the web UI\n",
        "\n",
        "\n",
        "try:\n",
        "  has_run\n",
        "except NameError:\n",
        "  has_run = False\n",
        "\n",
        "web_ui_folder = \"/content/stable-diffusion-webui\"\n",
        "extensions_folder = f\"{web_ui_folder}/extensions\"\n",
        "models_folder = f\"{web_ui_folder}/models/Stable-diffusion\"\n",
        "\n",
        "git_flags = \"-q\"\n",
        "wget_flags = \"-q --show-progress\"\n",
        "\n",
        "if not has_run:\n",
        "  has_run = True\n",
        "\n",
        "  !pip install -q https://github.com/camenduru/stable-diffusion-webui-colab/releases/download/0.0.15/xformers-0.0.15.dev0+189828c.d20221207-cp38-cp38-linux_x86_64.whl\n",
        "\n",
        "  !git clone {git_flags} https://github.com/camenduru/stable-diffusion-webui\n",
        "  !git clone {git_flags} https://github.com/yfszzx/stable-diffusion-webui-images-browser {extensions_folder}/stable-diffusion-webui-images-browser\n",
        "  !git clone {git_flags} https://github.com/DominikDoom/a1111-sd-webui-tagcomplete {extensions_folder}/a1111-sd-webui-tagcomplete\n",
        "\n",
        "  !wget {wget_flags} https://huggingface.co/eimiss/EimisAnimeDiffusion_1.0v/resolve/main/EimisAnimeDiffusion_1-0v.ckpt -O {models_folder}/EimisAnimeDiffusion_1-0v.ckpt\n",
        "\n",
        "%cd {web_ui_folder}\n",
        "!python launch.py --share --xformers"
      ]
    },
    {
      "cell_type": "code",
      "execution_count": null,
      "metadata": {
        "cellView": "form",
        "id": "hlvp6YQwjdTB"
      },
      "outputs": [],
      "source": [
        "#@title 📩 `Saving images`\n",
        "\n",
        "#@markdown The zip file will be visible at the files tab.\n",
        "\n",
        "from datetime import datetime\n",
        "str_date = datetime.today().strftime('%Y-%m-%d-%H%M%S')\n",
        "archive_name = f\"outputs-{str_date}.zip\"\n",
        "\n",
        "%cd /content/stable-diffusion-webui\n",
        "print(\"Zipping...\")\n",
        "!zip -qr /content/{archive_name} outputs\n",
        "print(f\"Zipped. You can now find {archive_name} at the files tab.\")\n",
        "\n",
        "\n",
        "#@markdown 📤 Upload zip to [temp.sh](https://temp.sh/)?\n",
        "upload_to_tempsh = False #@param {type:'boolean'}\n",
        "if upload_to_tempsh:\n",
        "  !curl -T /content/{archive_name} temp.sh\n",
        "  print(\"\\n^^^ This is your download link! ^^^\")\n",
        "\n",
        "#@markdown ----\n",
        "\n",
        "#@markdown 📲 Copy zip to Google Drive?\n",
        "copy_to_gdrive = False #@param {type:'boolean'}\n",
        "#@markdown 📂 The folder path to copy the zip file, if the above is checked, if left blank it will be in `AI/Generated`\n",
        "gdrive_folder = \"AI/Generated\" #@param { 'type': 'string' }\n",
        "\n",
        "if copy_to_gdrive:\n",
        "  from google.colab import drive\n",
        "\n",
        "  print(\"Mounting to Google Drive...\")\n",
        "  drive.mount('/content/drive')\n",
        "  if gdrive_folder == \"\":\n",
        "    gdrive_folder = \"AI/Generated\"\n",
        "  \n",
        "  drive_folder = f\"/content/drive/MyDrive/{gdrive_folder}\"\n",
        "  \n",
        "  !mkdir -p {drive_folder}\n",
        "  !cp /content/{archive_name} {drive_folder}\n",
        "  print(f\"Copied to {gdrive_folder}!\")\n",
        "\n",
        "#@markdown ----\n",
        "\n",
        "#@markdown ❌ Delete the files in the colab? (this wont delete the saved zip)\n",
        "delete_local_files = True #@param {type:'boolean'}\n",
        "if delete_local_files:\n",
        "  %cd /content/stable-diffusion-webui\n",
        "  !rm -rf outputs"
      ]
    }
  ],
  "metadata": {
    "accelerator": "GPU",
    "colab": {
      "private_outputs": true,
      "provenance": [],
      "include_colab_link": true
    },
    "gpuClass": "standard",
    "kernelspec": {
      "display_name": "Python 3",
      "name": "python3"
    },
    "language_info": {
      "name": "python"
    }
  },
  "nbformat": 4,
  "nbformat_minor": 0
}