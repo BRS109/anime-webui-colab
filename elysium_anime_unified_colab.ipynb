{
  "cells": [
    {
      "cell_type": "code",
      "execution_count": null,
      "metadata": {
        "cellView": "form",
        "colab": {}
      },
      "outputs": [],
      "source": [
        "#@title Running the web ui\n",
        "\n",
        "#@markdown # **⚠ Important ⚠**: Do not close this tab while running the web UI!\n",
        "\n",
        "#@markdown First, select what Elysium model you want to use\n",
        "ELYSIUM_ANIME_MODEL_VERSION = \"V3\" #@param [\"V1\", \"V2\", \"V3\"]\n",
        "\n",
        "#@markdown Then, click the play button on the left to install the web UI and it's dependencies\n",
        "\n",
        "#@markdown It takes around 3-5 minutes before you can see a `gradio` link to the web UI\n",
        "\n",
        "#@markdown ![](https://i.imgur.com/Wg4K3rf.png)\n",
        "\n",
        "!pip install -q https://github.com/camenduru/stable-diffusion-webui-colab/releases/download/0.0.15/xformers-0.0.15.dev0+189828c.d20221207-cp38-cp38-linux_x86_64.whl\n",
        "\n",
        "!git clone https://github.com/camenduru/stable-diffusion-webui\n",
        "!git clone https://github.com/yfszzx/stable-diffusion-webui-images-browser /content/stable-diffusion-webui/extensions/stable-diffusion-webui-images-browser\n",
        "\n",
        "model_dictionary = {\n",
        "    \"V1\":\"https://huggingface.co/hesw23168/SD-Elysium-Model/resolve/main/Elysium_Anime_V1.ckpt\",\n",
        "    \"V2\":\"https://huggingface.co/hesw23168/SD-Elysium-Model/resolve/main/Elysium_Anime_V2.ckpt\",\n",
        "    \"V3\":\"https://huggingface.co/hesw23168/SD-Elysium-Model/resolve/main/Elysium_Anime_V3.safetensors\",\n",
        "}\n",
        "vae_link = \"https://huggingface.co/hakurei/waifu-diffusion-v1-4/resolve/main/vae/kl-f8-anime2.ckpt\"\n",
        "\n",
        "model_to_use = model_dictionary[ELYSIUM_ANIME_MODEL_VERSION]\n",
        "\n",
        "%cd /content/stable-diffusion-webui/models/Stable-diffusion\n",
        "!wget {model_to_use}\n",
        "!wget {vae_link} -O kl-f8-anime2.vae.pt\n",
        "\n",
        "%cd /content/stable-diffusion-webui\n",
        "!wget https://github.com/NUROISEA/anime-webui-colab/raw/main/configs/elysium_ui_config.json -O ui-config.json\n",
        "\n",
        "!python launch.py --share --force-enable-xformers --vae-path /content/stable-diffusion-webui/models/Stable-diffusion/kl-f8-anime2.vae.pt"
      ]
    },
    {
      "cell_type": "code",
      "execution_count": null,
      "metadata": {
        "cellView": "form",
        "colab": {}
      },
      "outputs": [],
      "source": [
        "#@title Saving your generated images\n",
        "\n",
        "#@markdown Check this before running this cell if you want to save it your Google Drive\n",
        "SAVE_TO_GOOGLE_DRIVE = False #@param { 'type': 'boolean' }\n",
        "\n",
        "#@markdown The folder path to save the zip file, if the above is checked, if left blank it will be in `AI/Generated`\n",
        "GOOGLE_DRIVE_FOLDER_PATH = \"AI/Generated\" #@param { 'type': 'string' }\n",
        "\n",
        "#@markdown If you didnt choose to save to your Google Drive, you can find `output.zip` at the files tab of this collab\n",
        "\n",
        "#@markdown ![](https://i.imgur.com/fJpZpsS.png)\n",
        "%cd /content/stable-diffusion-webui\n",
        "\n",
        "output_folder = \"/content\"\n",
        "message = \"You can now open the files tab and download \"\n",
        "message_end = \".zip!\"\n",
        "\n",
        "if SAVE_TO_GOOGLE_DRIVE:\n",
        "  from google.colab import drive\n",
        "  drive.mount('/content/drive')\n",
        "\n",
        "  if GOOGLE_DRIVE_FOLDER_PATH == \"\":\n",
        "    output_folder = \"/content/drive/MyDrive/AI/Generated\"\n",
        "  else:\n",
        "    output_folder = \"/content/drive/MyDrive/\" + GOOGLE_DRIVE_FOLDER_PATH\n",
        "\n",
        "  message = \"You can now open \" + GOOGLE_DRIVE_FOLDER_PATH + \" in Google Drive and find \"\n",
        "  message_end = \".zip to download!\"\n",
        "\n",
        "  %mkdir {output_folder}\n",
        "\n",
        "from datetime import datetime\n",
        "str_date = datetime.today().strftime('%Y-%m-%d-%H%M%S')\n",
        "archive_name = \"outputs-\" + str_date\n",
        "\n",
        "!zip -r {output_folder}/{archive_name} outputs\n",
        "\n",
        "print(\"********************************************************\")\n",
        "print(\"********************************************************\")\n",
        "print(\"Files saved!\\n\" + message + archive_name + message_end)\n",
        "print(\"********************************************************\")\n",
        "print(\"********************************************************\")"
      ]
    }
  ],
  "metadata": {
    "accelerator": "GPU",
    "colab": {
      "collapsed_sections": [],
      "private_outputs": true,
      "provenance": []
    },
    "gpuClass": "standard",
    "kernelspec": {
      "display_name": "Python 3",
      "name": "python3"
    },
    "language_info": {
      "name": "python"
    }
  },
  "nbformat": 4,
  "nbformat_minor": 0
}
